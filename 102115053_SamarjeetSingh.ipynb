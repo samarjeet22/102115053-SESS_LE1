{
  "nbformat": 4,
  "nbformat_minor": 0,
  "metadata": {
    "colab": {
      "provenance": [],
      "include_colab_link": true
    },
    "kernelspec": {
      "name": "python3",
      "display_name": "Python 3"
    },
    "language_info": {
      "name": "python"
    }
  },
  "cells": [
    {
      "cell_type": "markdown",
      "metadata": {
        "id": "view-in-github",
        "colab_type": "text"
      },
      "source": [
        "<a href=\"https://colab.research.google.com/github/samarjeet22/102115053-SESS_LE1/blob/main/102115053_SamarjeetSingh.ipynb\" target=\"_parent\"><img src=\"https://colab.research.google.com/assets/colab-badge.svg\" alt=\"Open In Colab\"/></a>"
      ]
    },
    {
      "cell_type": "markdown",
      "source": [
        "Name: **Samarjeet Singh**  \n",
        "Email: `ssingh10_be21@thapar.edu`  \n",
        "Roll No: **102115053**  \n",
        "Group: **4NC2**  \n",
        "Start Timestamp: 20240911-1000"
      ],
      "metadata": {
        "id": "JSYdjLETIt2o"
      }
    },
    {
      "cell_type": "markdown",
      "source": [
        "## Question\n",
        " Consider the paper: <https://arxiv.org/abs/1804.03209>\n",
        "\n",
        "  1. Read and summarise the paper in about 50 words.\n",
        "  2. Download the dataset in the paper, statistically analyse and\n",
        "     describe it, so that it may be useful for posterity. (Include code\n",
        "     snippets in your .ipynb file to evidence your analysis.)\n",
        "  3. Train a classifier so that you are able to distinguish the commands\n",
        "     in the dataset.\n",
        "  4. Report the performance results using standard benchmarks.\n",
        "  5. Record about 30 samples of each command in your voice and create a\n",
        "     new dataset (including a new user id for yourself).  You may use a\n",
        "     timer on your computer to synchronise.\n",
        "  6. Fine tune your classifier to perform on your voice.\n",
        "  7. Report the results."
      ],
      "metadata": {
        "id": "pn0MNsVQLGNo"
      }
    },
    {
      "cell_type": "code",
      "execution_count": null,
      "metadata": {
        "id": "ktSGB8dsIsy4"
      },
      "outputs": [],
      "source": []
    }
  ]
}