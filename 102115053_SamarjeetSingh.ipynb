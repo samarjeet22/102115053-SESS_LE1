{
  "nbformat": 4,
  "nbformat_minor": 0,
  "metadata": {
    "colab": {
      "provenance": [],
      "authorship_tag": "ABX9TyO1YtIlc+1vAigm2HyFrNTA",
      "include_colab_link": true
    },
    "kernelspec": {
      "name": "python3",
      "display_name": "Python 3"
    },
    "language_info": {
      "name": "python"
    }
  },
  "cells": [
    {
      "cell_type": "markdown",
      "metadata": {
        "id": "view-in-github",
        "colab_type": "text"
      },
      "source": [
        "<a href=\"https://colab.research.google.com/github/samarjeet22/102115053-SESS_LE1/blob/main/102115053_SamarjeetSingh.ipynb\" target=\"_parent\"><img src=\"https://colab.research.google.com/assets/colab-badge.svg\" alt=\"Open In Colab\"/></a>"
      ]
    },
    {
      "cell_type": "markdown",
      "source": [
        "Name: **Samarjeet Singh**  \n",
        "Email: `ssingh10_be21@thapar.edu`  \n",
        "Roll No: **102115053**  \n",
        "Group: **4NC2**  \n",
        "Start Timestamp: 20240911-1000"
      ],
      "metadata": {
        "id": "JSYdjLETIt2o"
      }
    },
    {
      "cell_type": "code",
      "execution_count": null,
      "metadata": {
        "id": "ktSGB8dsIsy4"
      },
      "outputs": [],
      "source": []
    }
  ]
}